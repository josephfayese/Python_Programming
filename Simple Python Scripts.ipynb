{
  "cells": [
    {
      "metadata": {
        "collapsed": true
      },
      "cell_type": "markdown",
      "source": "##### 1. Install Jupyter notebook and run the first program and share the screenshot of the output."
    },
    {
      "metadata": {
        "trusted": true
      },
      "cell_type": "code",
      "source": "#### Ans: Jupyter notebook has been diabled by my company. Hence, I am using a cloud-based Jupyter notebook - Microsoft Azure Notebook",
      "execution_count": 1,
      "outputs": []
    },
    {
      "metadata": {},
      "cell_type": "markdown",
      "source": "##### 2. Write a program which will find all such numbers which are divisible by 7 but are not a multiple of 5, between 2000 and 3200 (both included). The numbers obtained should be printed in a comma-separated sequence on a single line."
    },
    {
      "metadata": {
        "trusted": true
      },
      "cell_type": "code",
      "source": "def divisible_7(a, b):\n    m = []\n    n = range(a, b)\n    for i in n:\n        if i % 7 == 0 and i % 5 != 0:\n            m.append(i)\n    return m",
      "execution_count": 2,
      "outputs": []
    },
    {
      "metadata": {
        "trusted": true
      },
      "cell_type": "code",
      "source": "divisible_7(2000, 3200)",
      "execution_count": 3,
      "outputs": [
        {
          "output_type": "execute_result",
          "execution_count": 3,
          "data": {
            "text/plain": "[2002,\n 2009,\n 2016,\n 2023,\n 2037,\n 2044,\n 2051,\n 2058,\n 2072,\n 2079,\n 2086,\n 2093,\n 2107,\n 2114,\n 2121,\n 2128,\n 2142,\n 2149,\n 2156,\n 2163,\n 2177,\n 2184,\n 2191,\n 2198,\n 2212,\n 2219,\n 2226,\n 2233,\n 2247,\n 2254,\n 2261,\n 2268,\n 2282,\n 2289,\n 2296,\n 2303,\n 2317,\n 2324,\n 2331,\n 2338,\n 2352,\n 2359,\n 2366,\n 2373,\n 2387,\n 2394,\n 2401,\n 2408,\n 2422,\n 2429,\n 2436,\n 2443,\n 2457,\n 2464,\n 2471,\n 2478,\n 2492,\n 2499,\n 2506,\n 2513,\n 2527,\n 2534,\n 2541,\n 2548,\n 2562,\n 2569,\n 2576,\n 2583,\n 2597,\n 2604,\n 2611,\n 2618,\n 2632,\n 2639,\n 2646,\n 2653,\n 2667,\n 2674,\n 2681,\n 2688,\n 2702,\n 2709,\n 2716,\n 2723,\n 2737,\n 2744,\n 2751,\n 2758,\n 2772,\n 2779,\n 2786,\n 2793,\n 2807,\n 2814,\n 2821,\n 2828,\n 2842,\n 2849,\n 2856,\n 2863,\n 2877,\n 2884,\n 2891,\n 2898,\n 2912,\n 2919,\n 2926,\n 2933,\n 2947,\n 2954,\n 2961,\n 2968,\n 2982,\n 2989,\n 2996,\n 3003,\n 3017,\n 3024,\n 3031,\n 3038,\n 3052,\n 3059,\n 3066,\n 3073,\n 3087,\n 3094,\n 3101,\n 3108,\n 3122,\n 3129,\n 3136,\n 3143,\n 3157,\n 3164,\n 3171,\n 3178,\n 3192,\n 3199]"
          },
          "metadata": {}
        }
      ]
    },
    {
      "metadata": {},
      "cell_type": "markdown",
      "source": "##### 3. Write a Python program to accept the user's first and last name and then getting them printed in the the reverse order with a space between first name and last name."
    },
    {
      "metadata": {
        "trusted": true
      },
      "cell_type": "code",
      "source": "first_name = input(\"Input User's first Name:\")\nLast_name = input(\"Input User's Last Name:\")\nFull_Name = Last_name +' '+ first_name\nprint(Full_Name)",
      "execution_count": 4,
      "outputs": [
        {
          "output_type": "stream",
          "name": "stdout",
          "text": "Input User's first Name:Joseph\nInput User's Last Name:Fayese\nFayese Joseph\n"
        }
      ]
    },
    {
      "metadata": {},
      "cell_type": "markdown",
      "source": "##### 4. Write a Python program to find the volume of a sphere with diameter 12 cm.\n###### Formula: V = 4/3 * π * $r^{3}$"
    },
    {
      "metadata": {
        "trusted": true
      },
      "cell_type": "code",
      "source": "def volofsphere(r):\n    import numpy as np\n    return (4 * np.pi * r**3)/3",
      "execution_count": 5,
      "outputs": []
    },
    {
      "metadata": {
        "trusted": true
      },
      "cell_type": "code",
      "source": "volofsphere(12)",
      "execution_count": 6,
      "outputs": [
        {
          "output_type": "execute_result",
          "execution_count": 6,
          "data": {
            "text/plain": "7238.229473870883"
          },
          "metadata": {}
        }
      ]
    },
    {
      "metadata": {},
      "cell_type": "markdown",
      "source": "## Task 2"
    },
    {
      "metadata": {},
      "cell_type": "markdown",
      "source": "##### 1. Write a program which accepts a sequence of comma-separated numbers from console and generate a list."
    },
    {
      "metadata": {
        "trusted": true
      },
      "cell_type": "code",
      "source": "values = input(\"Input the comma-separated values:\")\n#convert to list\nmy_list = values.split(\",\")\nprint(my_list)",
      "execution_count": 9,
      "outputs": [
        {
          "output_type": "stream",
          "name": "stdout",
          "text": "Input the comma-separated values:4, 5, 7, 9, 1\n['4', ' 5', ' 7', ' 9', ' 1']\n"
        }
      ]
    },
    {
      "metadata": {},
      "cell_type": "markdown",
      "source": "###### 2. Create the below pattern using nested for loop in Python."
    },
    {
      "metadata": {
        "trusted": true
      },
      "cell_type": "code",
      "source": "val = range(1, 10)\nfor i in val:\n    if i <= 5:\n        print(\"*\" * i)\n    else:\n        print(\"*\" * (len(val) - i + 1))",
      "execution_count": 10,
      "outputs": [
        {
          "output_type": "stream",
          "text": "*\n**\n***\n****\n*****\n****\n***\n**\n*\n",
          "name": "stdout"
        }
      ]
    },
    {
      "metadata": {},
      "cell_type": "markdown",
      "source": "###### 3. Write a Python program to reverse a word after accepting the input from the user."
    },
    {
      "metadata": {
        "trusted": true
      },
      "cell_type": "code",
      "source": "var = input(\"Input your variable here: \")\n#set an open list to capture your result\nMy_reversed = print(var[::-1])\nMy_reversed",
      "execution_count": 11,
      "outputs": [
        {
          "output_type": "stream",
          "name": "stdout",
          "text": "Input your variable here: AcadGild\ndliGdacA\n"
        }
      ]
    },
    {
      "metadata": {
        "trusted": true
      },
      "cell_type": "code",
      "source": "print(\"WE, THE PEOPLE OF INDIA,\\n\\t having solemnly resolved to constitute India into aSOVEREIGN!,\\n\\t\\t SOCIALIST, SECULAR, DEMOCRATIC REPUBLIC\\n\\t\\t and to secure to all its citizens\")",
      "execution_count": 20,
      "outputs": [
        {
          "output_type": "stream",
          "text": "WE, THE PEOPLE OF INDIA,\n having solemnly resolved to constitute India into aSOVEREIGN!,\n\t\t SOCIALIST, SECULAR, DEMOCRATIC REPUBLIC\n\t\t and to secure to all its citizens\n",
          "name": "stdout"
        }
      ]
    },
    {
      "metadata": {
        "trusted": true
      },
      "cell_type": "code",
      "source": "",
      "execution_count": null,
      "outputs": []
    }
  ],
  "metadata": {
    "kernelspec": {
      "name": "python36",
      "display_name": "Python 3.6",
      "language": "python"
    },
    "language_info": {
      "mimetype": "text/x-python",
      "nbconvert_exporter": "python",
      "name": "python",
      "pygments_lexer": "ipython3",
      "version": "3.6.6",
      "file_extension": ".py",
      "codemirror_mode": {
        "version": 3,
        "name": "ipython"
      }
    }
  },
  "nbformat": 4,
  "nbformat_minor": 2
}